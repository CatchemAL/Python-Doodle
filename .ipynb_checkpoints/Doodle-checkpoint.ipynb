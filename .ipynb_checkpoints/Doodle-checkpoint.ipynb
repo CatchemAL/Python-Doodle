{
 "cells": [
  {
   "cell_type": "code",
   "execution_count": 1,
   "metadata": {},
   "outputs": [],
   "source": [
    "import numpy as np\n",
    "import matplotlib.pyplot as plt\n",
    "import pandas as pd\n",
    "import seaborn as sns\n",
    "\n",
    "from ipywidgets import interact\n",
    "from typing import Any, Iterable, Sequence, Union, List, Callable"
   ]
  },
  {
   "cell_type": "markdown",
   "metadata": {},
   "source": [
    "## Type Annotations"
   ]
  },
  {
   "cell_type": "code",
   "execution_count": 2,
   "metadata": {},
   "outputs": [
    {
     "data": {
      "application/vnd.jupyter.widget-view+json": {
       "model_id": "b9b32194d51340548277d446cf5b3d9e",
       "version_major": 2,
       "version_minor": 0
      },
      "text/plain": [
       "interactive(children=(FloatSlider(value=2.0, description='x', max=6.0, min=-2.0), IntSlider(value=5, descripti…"
      ]
     },
     "metadata": {},
     "output_type": "display_data"
    }
   ],
   "source": [
    "def simple_function(x: int) -> int:\n",
    "    \"\"\"This function demonstrates the use of type annotations.\"\"\"\n",
    "    return x + 1\n",
    "\n",
    "def flexible_function(x: Union[int, float], n: int = 5) -> Union[List[int], List[float]]:\n",
    "    \"\"\"This function demonstrates a more complicated example of using type annotations.\"\"\"\n",
    "    return [x] * n\n",
    "\n",
    "\n",
    "simple_function(4)\n",
    "flexible_function(3.)\n",
    "\n",
    "i = interact(flexible_function, x=2.0, n=(0,10))"
   ]
  },
  {
   "cell_type": "markdown",
   "metadata": {},
   "source": [
    "## Strings"
   ]
  },
  {
   "cell_type": "code",
   "execution_count": 3,
   "metadata": {},
   "outputs": [
    {
     "name": "stdout",
     "output_type": "stream",
     "text": [
      "This string's appostrophe is escaped using backslash\n",
      "This string's appostrophe is allowed because we used double quotes\n",
      "This string can use \"double quotes\" because it is wrapped in single quotes\n",
      "This string's message can \"use either\" and span multiple lines. However, \n",
      "            the formatting is funny when you print it...\n",
      "This string can reference Alex\n",
      "This string can use \\n escape characters in it \\\\\\ because of the preceeding \"r\"\n",
      "b'This is a bytes object'\n"
     ]
    }
   ],
   "source": [
    "def create_strings() -> None:\n",
    "    \n",
    "    name = 'Alex'\n",
    "    \n",
    "    msg1 = 'This string\\'s appostrophe is escaped using backslash'\n",
    "    \n",
    "    msg2 = \"This string's appostrophe is allowed because we used double quotes\"\n",
    "    \n",
    "    msg3 = 'This string can use \"double quotes\" because it is wrapped in single quotes'\n",
    "    \n",
    "    msg4 = \"\"\"This string's message can \"use either\" and span multiple lines. However, \n",
    "            the formatting is funny when you print it...\"\"\"\n",
    "    \n",
    "    msg5 = f\"This string can reference {name}\"\n",
    "    \n",
    "    msg6 = r'This string can use \\n escape characters in it \\\\\\ because of the preceeding \"r\"'\n",
    "    \n",
    "    msg7 = b'This is a bytes object'\n",
    "    \n",
    "    print(msg1)\n",
    "    print(msg2)\n",
    "    print(msg3)\n",
    "    print(msg4)\n",
    "    print(msg5)\n",
    "    print(msg6)\n",
    "    print(msg7)\n",
    "    \n",
    "create_strings()"
   ]
  },
  {
   "cell_type": "markdown",
   "metadata": {},
   "source": [
    "## Numbers"
   ]
  },
  {
   "cell_type": "code",
   "execution_count": 4,
   "metadata": {},
   "outputs": [
    {
     "name": "stdout",
     "output_type": "stream",
     "text": [
      "(2.5, 2, (3+4j))\n"
     ]
    }
   ],
   "source": [
    "a = 5 / 2   # float division even for integers!\n",
    "b = 5 // 2  # integer division consistent with C\n",
    "c = 3 + 4j  # complex numbers\n",
    "\n",
    "print((a, b, c))"
   ]
  },
  {
   "cell_type": "markdown",
   "metadata": {},
   "source": [
    "## if:"
   ]
  },
  {
   "cell_type": "code",
   "execution_count": 5,
   "metadata": {},
   "outputs": [
    {
     "name": "stdout",
     "output_type": "stream",
     "text": [
      "This prints\n",
      "This prints\n",
      "Surprisingly, this prints\n",
      "...but strings prints\n",
      "...so not None does print!\n"
     ]
    }
   ],
   "source": [
    "if True:\n",
    "    print(\"This prints\")\n",
    "if False:\n",
    "    print(\"This doesn't\")\n",
    "\n",
    "if 0:\n",
    "    print(\"This does not print\")\n",
    "elif 42:\n",
    "    print(\"This prints\")\n",
    "else:\n",
    "    print('This does not')\n",
    "    \n",
    "    \n",
    "# Empty lists evaluate to false\n",
    "if []:\n",
    "    print('This does not print')\n",
    "\n",
    "if [False]:\n",
    "    print('Surprisingly, this prints')\n",
    "    \n",
    "# strings are like lists of chars so...\n",
    "if '':\n",
    "    print('Empty strings do not print...')\n",
    "if 'False':\n",
    "    print('...but strings prints')\n",
    "\n",
    "# None does not print\n",
    "if None:\n",
    "    print('None does not print...')\n",
    "\n",
    "if not None:\n",
    "    print('...so not None does print!')"
   ]
  },
  {
   "cell_type": "markdown",
   "metadata": {},
   "source": [
    "## \\*args and \\*\\*kwargs"
   ]
  },
  {
   "cell_type": "code",
   "execution_count": 6,
   "metadata": {},
   "outputs": [
    {
     "data": {
      "text/plain": [
       "12"
      ]
     },
     "execution_count": 6,
     "metadata": {},
     "output_type": "execute_result"
    }
   ],
   "source": [
    "def sumproduct(*args: Sequence[int]) -> int:\n",
    "    '''Example of how to use a variable number of args.\n",
    "    Takes any sequence of integers and returns the sumproduct.'''\n",
    "    total = 0\n",
    "    \n",
    "    for pair in zip(*args): # notice here, we need to unpack the args\n",
    "        total += np.prod(pair)\n",
    "        \n",
    "    return total\n",
    "\n",
    "\n",
    "seq1  = (1, 2, 2)\n",
    "seq2  = [4, 3, 1]\n",
    "sumproduct(seq1, seq2)"
   ]
  },
  {
   "cell_type": "code",
   "execution_count": 7,
   "metadata": {},
   "outputs": [
    {
     "name": "stdout",
     "output_type": "stream",
     "text": [
      "{\n",
      "   'tenor': 5,\n",
      "   'nominal': 100\n",
      "}\n"
     ]
    }
   ],
   "source": [
    "def make_json(**kwargs: str) -> str:\n",
    "    strings = ['{']\n",
    "    \n",
    "    for key, value in kwargs.items():\n",
    "        line = f\"   '{key}': {value},\" # here, use \"\" to avoid having to esacpe the '\n",
    "        strings.append(line)\n",
    "\n",
    "    strings[-1] = strings[-1][:-1] # remove the last comma\n",
    "    strings.append('}')\n",
    "    return '\\n'.join(strings)\n",
    "\n",
    "json = make_json(tenor=5, nominal=100)\n",
    "print(json)\n"
   ]
  },
  {
   "cell_type": "markdown",
   "metadata": {},
   "source": [
    "## Recursion"
   ]
  },
  {
   "cell_type": "code",
   "execution_count": 8,
   "metadata": {},
   "outputs": [
    {
     "data": {
      "application/vnd.jupyter.widget-view+json": {
       "model_id": "8265dafd5ef14ee1bd2699e69e9e7a89",
       "version_major": 2,
       "version_minor": 0
      },
      "text/plain": [
       "interactive(children=(IntSlider(value=5, description='n', max=10, min=1), Output()), _dom_classes=('widget-int…"
      ]
     },
     "metadata": {},
     "output_type": "display_data"
    }
   ],
   "source": [
    "def factorial(n):\n",
    "    if not type(n) is int:\n",
    "        raise TypeError(f'Expected an int but received a {type(n)}.')\n",
    "    if n <= 1:\n",
    "        return 1\n",
    "    \n",
    "    return n * factorial(n-1)\n",
    "\n",
    "i = interact(factorial, n=(1, 10))"
   ]
  },
  {
   "cell_type": "markdown",
   "metadata": {},
   "source": [
    "## Iterator protocol\n",
    "This code demonstrates how to set up the iterator protocol. But note, in 99.9% of cases, the iterable will `return self` within the `__iter__` method and implement the iterable code internally. However, to be completely explicit here, the iterator and iterable have been implemented separately.  "
   ]
  },
  {
   "cell_type": "code",
   "execution_count": 9,
   "metadata": {},
   "outputs": [
    {
     "name": "stdout",
     "output_type": "stream",
     "text": [
      "Creating an iterable...\n",
      "Iterable created.\n",
      "\n"
     ]
    },
    {
     "data": {
      "text/plain": [
       "Factorial calculator (first 10 numbers)"
      ]
     },
     "execution_count": 9,
     "metadata": {},
     "output_type": "execute_result"
    }
   ],
   "source": [
    "class FibonacciIterable:\n",
    "    \n",
    "    def __init__(self, n: int = None) -> None:\n",
    "        print('Creating an iterable...')\n",
    "        self.n = n\n",
    "        print('Iterable created.\\n')\n",
    "\n",
    "    def __repr__(self) -> str:\n",
    "        if self.n is None:\n",
    "            return 'Factorial calculator (up to... ∞)'\n",
    "        else:\n",
    "            return f'Factorial calculator (first {self.n} numbers)'\n",
    "\n",
    "    def __iter__(self):\n",
    "        print('This is called by iter(...)')\n",
    "        return FibonacciIterator(self.n)\n",
    "    \n",
    "\n",
    "class FibonacciIterator:\n",
    "\n",
    "    def __init__(self, max_num: int) -> None:\n",
    "        print('Creating an iterator...')\n",
    "        self.max_num = max_num\n",
    "        self.__count = 0\n",
    "        self.__n = 0\n",
    "        self.__m = 1\n",
    "        print('Iterator created.\\n')\n",
    "\n",
    "    def __next__(self) -> int:\n",
    "\n",
    "        if self.max_num is not None and self.__count >= self.max_num:\n",
    "            print(f'Count == {self.__count}, raising StopIteration...')\n",
    "            raise StopIteration()\n",
    "\n",
    "        self.__count += 1\n",
    "        self.__n, self.__m = self.__m, self.__n + self.__m\n",
    "        return self.__n\n",
    "\n",
    "    \n",
    "fib_iterable = FibonacciIterable(10)\n",
    "fib_iterable"
   ]
  },
  {
   "cell_type": "code",
   "execution_count": 10,
   "metadata": {},
   "outputs": [
    {
     "name": "stdout",
     "output_type": "stream",
     "text": [
      "This is called by iter(...)\n",
      "Creating an iterator...\n",
      "Iterator created.\n",
      "\n",
      "1\n",
      "1\n",
      "2\n",
      "3\n",
      "5\n",
      "8\n",
      "13\n",
      "21\n",
      "34\n",
      "55\n",
      "Count == 10, raising StopIteration...\n",
      "Reached because iterator was run to completion\n"
     ]
    }
   ],
   "source": [
    "fib_iterator = iter(fib_iterable)\n",
    "\n",
    "while True:\n",
    "    try:\n",
    "        fibval = next(fib_iterator)\n",
    "        print(fibval)\n",
    "    except StopIteration:\n",
    "        print(\"Reached because iterator was run to completion\")\n",
    "        break"
   ]
  },
  {
   "cell_type": "code",
   "execution_count": 11,
   "metadata": {
    "scrolled": true
   },
   "outputs": [
    {
     "name": "stdout",
     "output_type": "stream",
     "text": [
      "This is called by iter(...)\n",
      "Creating an iterator...\n",
      "Iterator created.\n",
      "\n",
      "1\n",
      "1\n",
      "2\n",
      "3\n",
      "5\n",
      "8\n",
      "13\n",
      "21\n",
      "34\n",
      "55\n",
      "Count == 10, raising StopIteration...\n",
      "The equivalent no break message\n"
     ]
    }
   ],
   "source": [
    "for fibval in fib_iterable:\n",
    "    print(fibval)\n",
    "else:\n",
    "    print(\"The equivalent no break message\")"
   ]
  },
  {
   "cell_type": "markdown",
   "metadata": {},
   "source": [
    "## Generators"
   ]
  },
  {
   "cell_type": "code",
   "execution_count": 12,
   "metadata": {},
   "outputs": [
    {
     "name": "stdout",
     "output_type": "stream",
     "text": [
      "1\n",
      "1\n",
      "2\n",
      "3\n",
      "5\n",
      "The equivalent no break message\n"
     ]
    }
   ],
   "source": [
    "def fibgen(num: int = 100) -> int:\n",
    "    n, m = 0, 1\n",
    "    for i in range(num):\n",
    "        n, m = m, n + m\n",
    "        yield n\n",
    "        \n",
    "for fibval in fibgen(5):\n",
    "    print(fibval)\n",
    "else:\n",
    "    print(\"The equivalent no break message\")"
   ]
  },
  {
   "cell_type": "markdown",
   "metadata": {},
   "source": [
    "## Context Managers"
   ]
  },
  {
   "cell_type": "code",
   "execution_count": 13,
   "metadata": {},
   "outputs": [
    {
     "name": "stdout",
     "output_type": "stream",
     "text": [
      "Unlocking safe...\n",
      "Safe unlocked.\n",
      "\n",
      "Gold watch safely added\n",
      "\n",
      "Locking safe...\n",
      "Safe locked.\n",
      "\n",
      "DENIED: Safe is still locked!\n"
     ]
    }
   ],
   "source": [
    "class DepositBox:\n",
    "\n",
    "    def __init__(self) -> None:\n",
    "        self.safe = self.Safe() # notice the use of self to reference the nested class\n",
    "        \n",
    "    def __enter__(self):\n",
    "        print('Unlocking safe...')\n",
    "        self.safe.unlock()\n",
    "        print('Safe unlocked.\\n')\n",
    "        return self.safe\n",
    "    \n",
    "    def __exit__(self, exc_type, exc_value, traceback):\n",
    "        # Notice that you can handle exceptions because they are passed in here\n",
    "        print('\\nLocking safe...')\n",
    "        self.safe.lock()\n",
    "        print('Safe locked.\\n')\n",
    "        \n",
    "    # Here is an example of a nested class in Python\n",
    "    class Safe():\n",
    "        \n",
    "        def __init__(self) -> None:\n",
    "            self.is_locked = True\n",
    "            \n",
    "        def unlock(self) -> None:\n",
    "            self.is_locked = False\n",
    "        \n",
    "        def lock(self) -> None:\n",
    "            self.is_locked = True\n",
    "            \n",
    "        def add(self, item: Any) -> None:\n",
    "            if self.is_locked:\n",
    "                print('DENIED: Safe is still locked!')\n",
    "            else:\n",
    "                print(f'{item} safely added')\n",
    "    \n",
    "\n",
    "deposit_box = DepositBox()\n",
    "with deposit_box as box:\n",
    "    box.add('Gold watch')\n",
    "    \n",
    "\n",
    "deposit_box.safe.add('spectacles')"
   ]
  },
  {
   "cell_type": "markdown",
   "metadata": {},
   "source": [
    "## Decorators"
   ]
  },
  {
   "cell_type": "code",
   "execution_count": 14,
   "metadata": {},
   "outputs": [
    {
     "name": "stdout",
     "output_type": "stream",
     "text": [
      "Calling add_stuff...\n",
      "Function add_stuff complete.\n"
     ]
    },
    {
     "data": {
      "text/plain": [
       "4"
      ]
     },
     "execution_count": 14,
     "metadata": {},
     "output_type": "execute_result"
    }
   ],
   "source": [
    "def logger(function: Callable[[Any], None]) -> Callable[[Any], None]:\n",
    "    \n",
    "    def wrapper(*args, **kwargs):\n",
    "        print(f'Calling {function.__name__}...')\n",
    "        res = function(*args, **kwargs)\n",
    "        print(f'Function {function.__name__} complete.')\n",
    "        return res\n",
    "    \n",
    "    return wrapper\n",
    "\n",
    "@logger\n",
    "def add_stuff(x: int, y: int) -> int:\n",
    "    return x + y\n",
    "\n",
    "def test(a, b):\n",
    "    return a * 2 + b\n",
    "\n",
    "add_stuff(5, 6)\n",
    "\n",
    "dic = {'b': 2, 'a': 1}\n",
    "test(**dic)"
   ]
  },
  {
   "cell_type": "markdown",
   "metadata": {},
   "source": [
    "## Logging\n",
    "\n",
    "\n",
    "\n",
    "| Level    | Value   |\n",
    "|----------|---------|\n",
    "| NOTSET   | 0       |\n",
    "| DEBUG    | 10      |\n",
    "| INFO     | 20      |\n",
    "| WARNING  | 30      |\n",
    "| ERROR    | 40      |\n",
    "| CRITICAL | 50      |"
   ]
  },
  {
   "cell_type": "code",
   "execution_count": 15,
   "metadata": {
    "scrolled": false
   },
   "outputs": [
    {
     "name": "stderr",
     "output_type": "stream",
     "text": [
      "INFO:root:This will print\n",
      "WARNING:root:This will print\n",
      "ERROR:root:This will print\n",
      "CRITICAL:root:This will print\n"
     ]
    }
   ],
   "source": [
    "import logging\n",
    "\n",
    "logging.basicConfig(level=logging.INFO) # Here we have set the level to info\n",
    "logger = logging.getLogger()\n",
    "\n",
    "logger.debug(\"This won't print because it is below info\")\n",
    "logger.info(\"This will print\")\n",
    "logger.warning(\"This will print\")\n",
    "logger.error(\"This will print\")\n",
    "logger.critical(\"This will print\")\n",
    "\n"
   ]
  }
 ],
 "metadata": {
  "kernelspec": {
   "display_name": "Python 3",
   "language": "python",
   "name": "python3"
  },
  "language_info": {
   "codemirror_mode": {
    "name": "ipython",
    "version": 3
   },
   "file_extension": ".py",
   "mimetype": "text/x-python",
   "name": "python",
   "nbconvert_exporter": "python",
   "pygments_lexer": "ipython3",
   "version": "3.7.3"
  }
 },
 "nbformat": 4,
 "nbformat_minor": 2
}
