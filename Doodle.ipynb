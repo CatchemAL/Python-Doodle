{
 "cells": [
  {
   "cell_type": "code",
   "execution_count": 1,
   "metadata": {},
   "outputs": [],
   "source": [
    "import numpy as np\n",
    "import matplotlib.pyplot as plt\n",
    "import pandas as pd\n",
    "import seaborn as sns\n",
    "import requests\n",
    "import asyncio\n",
    "\n",
    "from ipywidgets import interact\n",
    "from typing import Any, Iterable, Sequence, Union, List, Callable, Generator"
   ]
  },
  {
   "cell_type": "markdown",
   "metadata": {},
   "source": [
    "## Type Annotations"
   ]
  },
  {
   "cell_type": "code",
   "execution_count": 2,
   "metadata": {},
   "outputs": [
    {
     "data": {
      "application/vnd.jupyter.widget-view+json": {
       "model_id": "6f62c152af744c21ac08287e36011e87",
       "version_major": 2,
       "version_minor": 0
      },
      "text/plain": [
       "interactive(children=(FloatSlider(value=2.0, description='x', max=6.0, min=-2.0), IntSlider(value=5, descripti…"
      ]
     },
     "metadata": {},
     "output_type": "display_data"
    }
   ],
   "source": [
    "def simple_function(x: int) -> int:\n",
    "    \"\"\"This function demonstrates the use of type annotations.\"\"\"\n",
    "    return x + 1\n",
    "\n",
    "def flexible_function(x: Union[int, float], n: int = 5) -> Union[List[int], List[float]]:\n",
    "    \"\"\"This function demonstrates a more complicated example of using type annotations.\"\"\"\n",
    "    return [x] * n\n",
    "\n",
    "\n",
    "simple_function(4)\n",
    "flexible_function(3.)\n",
    "\n",
    "i = interact(flexible_function, x=2.0, n=(0,10))"
   ]
  },
  {
   "cell_type": "markdown",
   "metadata": {},
   "source": [
    "## Strings"
   ]
  },
  {
   "cell_type": "code",
   "execution_count": 3,
   "metadata": {},
   "outputs": [
    {
     "name": "stdout",
     "output_type": "stream",
     "text": [
      "This string's appostrophe is escaped using backslash\n",
      "This string's appostrophe is allowed because we used double quotes\n",
      "This string can use \"double quotes\" because it is wrapped in single quotes\n",
      "This string's message can \"use either\" and span multiple lines. However, \n",
      "            the formatting is funny when you print it...\n",
      "This string can reference Alex\n",
      "This string can use \\n escape characters in it \\\\\\ because of the preceeding \"r\"\n",
      "This is a bytes object. You can decode it to a real string if necessary.\n"
     ]
    }
   ],
   "source": [
    "def create_strings() -> None:\n",
    "    \n",
    "    name = 'Alex'\n",
    "    \n",
    "    msg1 = 'This string\\'s appostrophe is escaped using backslash'\n",
    "    \n",
    "    msg2 = \"This string's appostrophe is allowed because we used double quotes\"\n",
    "    \n",
    "    msg3 = 'This string can use \"double quotes\" because it is wrapped in single quotes'\n",
    "    \n",
    "    msg4 = \"\"\"This string's message can \"use either\" and span multiple lines. However, \n",
    "            the formatting is funny when you print it...\"\"\"\n",
    "    \n",
    "    msg5 = f\"This string can reference {name}\"\n",
    "    \n",
    "    msg6 = r'This string can use \\n escape characters in it \\\\\\ because of the preceeding \"r\"'\n",
    "    \n",
    "    msg7 = b'This is a bytes object. You can decode it to a real string if necessary.'\n",
    "    \n",
    "    print(msg1)\n",
    "    print(msg2)\n",
    "    print(msg3)\n",
    "    print(msg4)\n",
    "    print(msg5)\n",
    "    print(msg6)\n",
    "    print(msg7.decode())\n",
    "    \n",
    "create_strings()"
   ]
  },
  {
   "cell_type": "markdown",
   "metadata": {},
   "source": [
    "## Numbers"
   ]
  },
  {
   "cell_type": "code",
   "execution_count": 4,
   "metadata": {},
   "outputs": [
    {
     "name": "stdout",
     "output_type": "stream",
     "text": [
      "(2.5, 2, (3+4j))\n"
     ]
    }
   ],
   "source": [
    "a = 5 / 2   # float division even for integers!\n",
    "b = 5 // 2  # integer division consistent with C\n",
    "c = 3 + 4j  # complex numbers\n",
    "\n",
    "print((a, b, c))"
   ]
  },
  {
   "cell_type": "markdown",
   "metadata": {},
   "source": [
    "## if:"
   ]
  },
  {
   "cell_type": "code",
   "execution_count": 5,
   "metadata": {},
   "outputs": [
    {
     "name": "stdout",
     "output_type": "stream",
     "text": [
      "This prints\n",
      "This prints\n",
      "Surprisingly, this prints\n",
      "...but strings prints\n",
      "...so not None does print!\n"
     ]
    }
   ],
   "source": [
    "if True:\n",
    "    print(\"This prints\")\n",
    "if False:\n",
    "    print(\"This doesn't\")\n",
    "\n",
    "if 0:\n",
    "    print(\"This does not print\")\n",
    "elif 42:\n",
    "    print(\"This prints\")\n",
    "else:\n",
    "    print('This does not')\n",
    "    \n",
    "    \n",
    "# Empty lists evaluate to false\n",
    "if []:\n",
    "    print('This does not print')\n",
    "\n",
    "if [False]:\n",
    "    print('Surprisingly, this prints')\n",
    "    \n",
    "# strings are like lists of chars so...\n",
    "if '':\n",
    "    print('Empty strings do not print...')\n",
    "if 'False':\n",
    "    print('...but strings prints')\n",
    "\n",
    "# None does not print\n",
    "if None:\n",
    "    print('None does not print...')\n",
    "\n",
    "if not None:\n",
    "    print('...so not None does print!')"
   ]
  },
  {
   "cell_type": "markdown",
   "metadata": {},
   "source": [
    "## List comprehensions"
   ]
  },
  {
   "cell_type": "code",
   "execution_count": 6,
   "metadata": {},
   "outputs": [
    {
     "name": "stdout",
     "output_type": "stream",
     "text": [
      "[25, 16, 9, 4, 1, 0, 1, 4, 9, 16, 25]\n",
      "{0, 1, 4, 9, 16, 25}\n",
      "{0: 25, 1: 16, 2: 9, 3: 4, 4: 1, 5: 0, 6: 1, 7: 4, 8: 9, 9: 16, 10: 25}\n",
      "<generator object <genexpr> at 0x0000022AC22B4C78>\n",
      "[16, 4, 0, 4, 16]\n"
     ]
    },
    {
     "data": {
      "text/plain": [
       "[(0, 0),\n",
       " (1, 0),\n",
       " (1, 1),\n",
       " (2, 0),\n",
       " (2, 1),\n",
       " (2, 2),\n",
       " (3, 0),\n",
       " (3, 1),\n",
       " (3, 2),\n",
       " (3, 3)]"
      ]
     },
     "execution_count": 6,
     "metadata": {},
     "output_type": "execute_result"
    }
   ],
   "source": [
    "# List comprehension\n",
    "squares = [i**2 for i in range(-5, 6)]\n",
    "print(squares)\n",
    "\n",
    "# Set comprehension\n",
    "squares = {i**2 for i in range(-5, 6)}\n",
    "print(squares)\n",
    "\n",
    "# Dict comprehension\n",
    "squares = {i: v**2 for i,v in enumerate(range(-5, 6))}\n",
    "print(squares)\n",
    "\n",
    "# Generator comprehension\n",
    "squares = (i**2 for i in range(-5, 6))\n",
    "print(squares)\n",
    "\n",
    "\n",
    "# Filtering\n",
    "squares = [i**2 for i in range(-5, 6) if i % 2 == 0]\n",
    "print(squares)\n",
    "\n",
    "# Nested comprehension\n",
    "# for i in range(4):\n",
    "#     for j in range(i+1):\n",
    "#         yield (i, j)\n",
    "nested = [(i, j) for i in range(4) for j in range(i+1)]\n",
    "nested"
   ]
  },
  {
   "cell_type": "markdown",
   "metadata": {},
   "source": [
    "## \\*args and \\*\\*kwargs"
   ]
  },
  {
   "cell_type": "code",
   "execution_count": 7,
   "metadata": {},
   "outputs": [
    {
     "data": {
      "text/plain": [
       "12"
      ]
     },
     "execution_count": 7,
     "metadata": {},
     "output_type": "execute_result"
    }
   ],
   "source": [
    "def sumproduct(*args: Sequence[int]) -> int:\n",
    "    '''Example of how to use a variable number of args.\n",
    "    Takes any sequence of integers and returns the sumproduct.'''\n",
    "    total = 0\n",
    "    \n",
    "    for pair in zip(*args): # notice here, we need to unpack the args\n",
    "        total += np.prod(pair)\n",
    "        \n",
    "    return total\n",
    "\n",
    "\n",
    "seq1  = (1, 2, 2)\n",
    "seq2  = [4, 3, 1]\n",
    "sumproduct(seq1, seq2)"
   ]
  },
  {
   "cell_type": "code",
   "execution_count": 8,
   "metadata": {},
   "outputs": [
    {
     "name": "stdout",
     "output_type": "stream",
     "text": [
      "{\n",
      "   'tenor': 5,\n",
      "   'nominal': 100\n",
      "}\n"
     ]
    }
   ],
   "source": [
    "def make_json(**kwargs: str) -> str:\n",
    "    strings = ['{']\n",
    "    \n",
    "    for key, value in kwargs.items():\n",
    "        line = f\"   '{key}': {value},\" # here, use \"\" to avoid having to esacpe the '\n",
    "        strings.append(line)\n",
    "\n",
    "    strings[-1] = strings[-1][:-1] # remove the last comma\n",
    "    strings.append('}')\n",
    "    return '\\n'.join(strings)\n",
    "\n",
    "json = make_json(tenor=5, nominal=100)\n",
    "print(json)\n"
   ]
  },
  {
   "cell_type": "markdown",
   "metadata": {},
   "source": [
    "## Recursion"
   ]
  },
  {
   "cell_type": "code",
   "execution_count": 9,
   "metadata": {},
   "outputs": [
    {
     "data": {
      "application/vnd.jupyter.widget-view+json": {
       "model_id": "6834d5f67c474d82a02cc6615c76dc8f",
       "version_major": 2,
       "version_minor": 0
      },
      "text/plain": [
       "interactive(children=(IntSlider(value=5, description='n', max=10, min=1), Output()), _dom_classes=('widget-int…"
      ]
     },
     "metadata": {},
     "output_type": "display_data"
    }
   ],
   "source": [
    "def factorial(n: int) -> int:\n",
    "    if not type(n) is int:\n",
    "        raise TypeError(f'Expected an int but received a {type(n)}.')\n",
    "    if n <= 1:\n",
    "        return 1\n",
    "    \n",
    "    return n * factorial(n-1)\n",
    "\n",
    "i = interact(factorial, n=(1, 10))"
   ]
  },
  {
   "cell_type": "markdown",
   "metadata": {},
   "source": [
    "## Iterator protocol\n",
    "This code demonstrates how to set up the iterator protocol. But note, in 99.9% of cases, the iterable will `return self` within the `__iter__` method and implement the iterable code internally. However, to be completely explicit here, the iterator and iterable have been implemented separately.  "
   ]
  },
  {
   "cell_type": "code",
   "execution_count": 10,
   "metadata": {},
   "outputs": [
    {
     "name": "stdout",
     "output_type": "stream",
     "text": [
      "Creating an iterable...\n",
      "Iterable created.\n",
      "\n"
     ]
    },
    {
     "data": {
      "text/plain": [
       "Factorial calculator (first 10 numbers)"
      ]
     },
     "execution_count": 10,
     "metadata": {},
     "output_type": "execute_result"
    }
   ],
   "source": [
    "class FibonacciIterable:\n",
    "    \n",
    "    def __init__(self, n: int = None) -> None:\n",
    "        print('Creating an iterable...')\n",
    "        self.n = n\n",
    "        print('Iterable created.\\n')\n",
    "\n",
    "    def __repr__(self) -> str:\n",
    "        if self.n is None:\n",
    "            return 'Factorial calculator (up to... ∞)'\n",
    "        else:\n",
    "            return f'Factorial calculator (first {self.n} numbers)'\n",
    "\n",
    "    def __iter__(self):\n",
    "        print('This is called by iter(...)')\n",
    "        return FibonacciIterator(self.n)\n",
    "    \n",
    "\n",
    "class FibonacciIterator:\n",
    "\n",
    "    def __init__(self, max_num: int) -> None:\n",
    "        print('Creating an iterator...')\n",
    "        self.max_num = max_num\n",
    "        self.__count = 0\n",
    "        self.__n = 0\n",
    "        self.__m = 1\n",
    "        print('Iterator created.\\n')\n",
    "\n",
    "    def __next__(self) -> int:\n",
    "\n",
    "        if self.max_num is not None and self.__count >= self.max_num:\n",
    "            print(f'Count == {self.__count}, raising StopIteration...')\n",
    "            raise StopIteration()\n",
    "\n",
    "        self.__count += 1\n",
    "        self.__n, self.__m = self.__m, self.__n + self.__m\n",
    "        return self.__n\n",
    "\n",
    "    \n",
    "fib_iterable = FibonacciIterable(10)\n",
    "fib_iterable"
   ]
  },
  {
   "cell_type": "code",
   "execution_count": 11,
   "metadata": {},
   "outputs": [
    {
     "name": "stdout",
     "output_type": "stream",
     "text": [
      "This is called by iter(...)\n",
      "Creating an iterator...\n",
      "Iterator created.\n",
      "\n",
      "1\n",
      "1\n",
      "2\n",
      "3\n",
      "5\n",
      "8\n",
      "13\n",
      "21\n",
      "34\n",
      "55\n",
      "Count == 10, raising StopIteration...\n",
      "Reached because iterator was run to completion\n"
     ]
    }
   ],
   "source": [
    "fib_iterator = iter(fib_iterable)\n",
    "\n",
    "while True:\n",
    "    try:\n",
    "        fibval = next(fib_iterator)\n",
    "        print(fibval)\n",
    "    except StopIteration:\n",
    "        print(\"Reached because iterator was run to completion\")\n",
    "        break"
   ]
  },
  {
   "cell_type": "code",
   "execution_count": 12,
   "metadata": {
    "scrolled": true
   },
   "outputs": [
    {
     "name": "stdout",
     "output_type": "stream",
     "text": [
      "This is called by iter(...)\n",
      "Creating an iterator...\n",
      "Iterator created.\n",
      "\n",
      "1\n",
      "1\n",
      "2\n",
      "3\n",
      "5\n",
      "8\n",
      "13\n",
      "21\n",
      "34\n",
      "55\n",
      "Count == 10, raising StopIteration...\n",
      "The equivalent no break message\n"
     ]
    }
   ],
   "source": [
    "for fibval in fib_iterable:\n",
    "    print(fibval)\n",
    "else:\n",
    "    print(\"The equivalent no break message\")"
   ]
  },
  {
   "cell_type": "markdown",
   "metadata": {},
   "source": [
    "## Generators"
   ]
  },
  {
   "cell_type": "code",
   "execution_count": 13,
   "metadata": {},
   "outputs": [
    {
     "name": "stdout",
     "output_type": "stream",
     "text": [
      "1\n",
      "1\n",
      "2\n",
      "3\n",
      "5\n",
      "The equivalent no break message\n"
     ]
    }
   ],
   "source": [
    "def fibgen(num: int = 100) -> Generator[int, None, None]:\n",
    "    \"\"\"Yields the first 'num' elements of the Fibonacci sequence.\"\"\"\n",
    "    n, m = 0, 1\n",
    "    for i in range(num):\n",
    "        n, m = m, n + m\n",
    "        yield n\n",
    "        \n",
    "for fibval in fibgen(5):\n",
    "    print(fibval)\n",
    "else:\n",
    "    print(\"The equivalent no break message\")"
   ]
  },
  {
   "cell_type": "markdown",
   "metadata": {},
   "source": [
    "## Coroutines"
   ]
  },
  {
   "cell_type": "code",
   "execution_count": 14,
   "metadata": {},
   "outputs": [
    {
     "name": "stdout",
     "output_type": "stream",
     "text": [
      "Create the generator...\n",
      "Generator created.\n",
      "\n",
      "Initialize the generator by calling next\n",
      "Generator has been entered\n",
      "Generator initialized.\n",
      "\n",
      "1: largest so far: 2\n",
      "2: largest so far: 8\n",
      "3: largest so far: 8\n",
      "4: largest so far: 9\n",
      "5: largest so far: 20\n"
     ]
    },
    {
     "data": {
      "text/plain": [
       "-1"
      ]
     },
     "execution_count": 14,
     "metadata": {},
     "output_type": "execute_result"
    }
   ],
   "source": [
    "def back_and_forth() -> Generator[None, int, int]:\n",
    "    \n",
    "    print('Generator has been entered')\n",
    "    \n",
    "    largest = float(\"-inf\")\n",
    "    for i in range(5):\n",
    "        current = yield\n",
    "        largest = max(current, largest)\n",
    "        print(f'{i+1}: largest so far: {largest}')\n",
    "    \n",
    "    yield -1\n",
    "\n",
    "print('Create the generator...') # note this does not start the generator\n",
    "it = back_and_forth()\n",
    "print('Generator created.\\n')\n",
    "\n",
    "print('Initialize the generator by calling next') # This runs the code to the first yield\n",
    "next(it)\n",
    "print('Generator initialized.\\n')\n",
    "\n",
    "it.send(2)\n",
    "it.send(8)\n",
    "it.send(5)\n",
    "it.send(9)\n",
    "it.send(20)"
   ]
  },
  {
   "cell_type": "markdown",
   "metadata": {},
   "source": [
    "## Async await"
   ]
  },
  {
   "cell_type": "code",
   "execution_count": 15,
   "metadata": {
    "scrolled": false
   },
   "outputs": [
    {
     "name": "stdout",
     "output_type": "stream",
     "text": [
      "\n",
      "main4\n",
      "\n",
      "main1\n",
      "Entered...\n",
      "...Exit\n",
      "\n",
      "\n",
      "main2\n",
      "Entered...\n",
      "...Exit\n",
      "\n",
      "\n",
      "main3\n",
      "Entered...\n",
      "...Exit\n",
      "\n",
      "Entered...\n",
      "...Exit\n",
      "\n"
     ]
    }
   ],
   "source": [
    "async def count():\n",
    "    print(\"Entered...\")\n",
    "    await asyncio.sleep(1)\n",
    "    print(\"...Exit\\n\")\n",
    "\n",
    "#async def main2():\n",
    "#    await asyncio.gather(count(), count(), count())\n",
    "    \n",
    "async def main1():\n",
    "    print('\\nmain1')\n",
    "    await count()\n",
    "\n",
    "def main2():\n",
    "    print('\\nmain2')\n",
    "    return count()\n",
    "\n",
    "async def main3():\n",
    "    print('\\nmain3')\n",
    "    await count()\n",
    "\n",
    "def main4():\n",
    "    print('\\nmain4')\n",
    "    return count()\n",
    "\n",
    "m3 = main3()\n",
    "m4 = main4()\n",
    "\n",
    "await main1()\n",
    "await main2()\n",
    "await m3\n",
    "await m4"
   ]
  },
  {
   "cell_type": "code",
   "execution_count": 16,
   "metadata": {},
   "outputs": [
    {
     "name": "stdout",
     "output_type": "stream",
     "text": [
      "Make API call...\n",
      "Do smart calc...\n",
      "Calc finished.\n",
      "Data back.\n",
      "The result is 3\n"
     ]
    }
   ],
   "source": [
    "import time, threading\n",
    "\n",
    "async def do_stuff_wrong():\n",
    "    ioBoundTask = do_iobound_work_async()\n",
    "    cpuBoundResult = do_cpu_intensive_calc()\n",
    "    ioBoundResult = await ioBoundTask\n",
    "    print(f\"The result is {cpuBoundResult + ioBoundResult}\")\n",
    "    \n",
    "async def do_stuff():\n",
    "    task = asyncio.create_task(do_iobound_work_async())     \n",
    "    await asyncio.sleep(0)\n",
    "    cpuBoundResult = do_cpu_intensive_calc()\n",
    "    ioBoundResult = await task\n",
    "    print(f\"The result is {cpuBoundResult + ioBoundResult}\")\n",
    "\n",
    "async def do_stuff3():\n",
    "    task = await begin_task(do_iobound_work_async())\n",
    "    cpuBoundResult = do_cpu_intensive_calc()\n",
    "    ioBoundResult = await task\n",
    "    print(f\"The result is {cpuBoundResult + ioBoundResult}\")\n",
    "\n",
    "async def begin_task(coro):\n",
    "    task = asyncio.create_task(coro)\n",
    "    await asyncio.sleep(0)\n",
    "    return task\n",
    "    \n",
    "async def do_iobound_work_async(): \n",
    "    print(f\"Make API call...\")\n",
    "    await asyncio.sleep(2.)\n",
    "    print(f\"Data back.\")\n",
    "    return 1\n",
    "\n",
    "def do_cpu_intensive_calc():\n",
    "    print(f\"Do smart calc...\")\n",
    "    time.sleep(1.5)\n",
    "    print(f\"Calc finished.\")\n",
    "    return 2\n",
    "\n",
    "\n",
    "await do_stuff3()"
   ]
  },
  {
   "cell_type": "markdown",
   "metadata": {},
   "source": [
    "## Context Managers"
   ]
  },
  {
   "cell_type": "code",
   "execution_count": 17,
   "metadata": {},
   "outputs": [
    {
     "name": "stdout",
     "output_type": "stream",
     "text": [
      "Unlocking safe...\n",
      "Safe unlocked.\n",
      "\n",
      "Gold watch safely added\n",
      "\n",
      "Locking safe...\n",
      "Safe locked.\n",
      "\n",
      "DENIED: Safe is still locked!\n"
     ]
    }
   ],
   "source": [
    "class DepositBox:\n",
    "\n",
    "    def __init__(self) -> None:\n",
    "        self.safe = self.Safe() # notice the use of self to reference the nested class\n",
    "        \n",
    "    def __enter__(self):\n",
    "        print('Unlocking safe...')\n",
    "        self.safe.unlock()\n",
    "        print('Safe unlocked.\\n')\n",
    "        return self.safe\n",
    "    \n",
    "    def __exit__(self, exc_type, exc_value, traceback):\n",
    "        # Notice that you can handle exceptions because they are passed in here\n",
    "        print('\\nLocking safe...')\n",
    "        self.safe.lock()\n",
    "        print('Safe locked.\\n')\n",
    "        \n",
    "    # Here is an example of a nested class in Python\n",
    "    class Safe():\n",
    "        \n",
    "        def __init__(self) -> None:\n",
    "            self.is_locked = True\n",
    "            \n",
    "        def unlock(self) -> None:\n",
    "            self.is_locked = False\n",
    "        \n",
    "        def lock(self) -> None:\n",
    "            self.is_locked = True\n",
    "            \n",
    "        def add(self, item: Any) -> None:\n",
    "            if self.is_locked:\n",
    "                print('DENIED: Safe is still locked!')\n",
    "            else:\n",
    "                print(f'{item} safely added')\n",
    "    \n",
    "\n",
    "deposit_box = DepositBox()\n",
    "with deposit_box as box:\n",
    "    box.add('Gold watch')\n",
    "    \n",
    "\n",
    "deposit_box.safe.add('spectacles')"
   ]
  },
  {
   "cell_type": "markdown",
   "metadata": {},
   "source": [
    "## Decorators"
   ]
  },
  {
   "cell_type": "code",
   "execution_count": 18,
   "metadata": {},
   "outputs": [
    {
     "name": "stdout",
     "output_type": "stream",
     "text": [
      "Calling add_stuff...\n",
      "Function add_stuff complete.\n"
     ]
    },
    {
     "data": {
      "text/plain": [
       "4"
      ]
     },
     "execution_count": 18,
     "metadata": {},
     "output_type": "execute_result"
    }
   ],
   "source": [
    "def logger(function: Callable[[Any], None]) -> Callable[[Any], None]:\n",
    "    \n",
    "    def wrapper(*args, **kwargs):\n",
    "        print(f'Calling {function.__name__}...')\n",
    "        res = function(*args, **kwargs)\n",
    "        print(f'Function {function.__name__} complete.')\n",
    "        return res\n",
    "    \n",
    "    return wrapper\n",
    "\n",
    "@logger\n",
    "def add_stuff(x: int, y: int) -> int:\n",
    "    return x + y\n",
    "\n",
    "def test(a, b):\n",
    "    return a * 2 + b\n",
    "\n",
    "add_stuff(5, 6)\n",
    "\n",
    "dic = {'b': 2, 'a': 1}\n",
    "test(**dic)"
   ]
  },
  {
   "cell_type": "markdown",
   "metadata": {},
   "source": [
    "## Logging\n",
    "\n",
    "\n",
    "\n",
    "| Level    | Value   |\n",
    "|----------|---------|\n",
    "| NOTSET   | 0       |\n",
    "| DEBUG    | 10      |\n",
    "| INFO     | 20      |\n",
    "| WARNING  | 30      |\n",
    "| ERROR    | 40      |\n",
    "| CRITICAL | 50      |"
   ]
  },
  {
   "cell_type": "code",
   "execution_count": 19,
   "metadata": {
    "scrolled": false
   },
   "outputs": [
    {
     "name": "stderr",
     "output_type": "stream",
     "text": [
      "Error log\n",
      "Critical log\n"
     ]
    }
   ],
   "source": [
    "import logging\n",
    "\n",
    "logger = logging.getLogger()\n",
    "logger.setLevel(logging.ERROR)  # <--- Change to WARNING to see the difference\n",
    "\n",
    "logger.debug(\"This won't print because it is below info\")\n",
    "logger.info(\"Info log\")\n",
    "logger.warning(\"Warning log\")\n",
    "logger.error(\"Error log\")\n",
    "logger.critical(\"Critical log\")\n",
    "\n"
   ]
  },
  {
   "cell_type": "markdown",
   "metadata": {},
   "source": [
    "## Dataclass"
   ]
  },
  {
   "cell_type": "code",
   "execution_count": 20,
   "metadata": {},
   "outputs": [
    {
     "data": {
      "text/plain": [
       "Customer(id=3, name='Little Bobby Drop Tables')"
      ]
     },
     "execution_count": 20,
     "metadata": {},
     "output_type": "execute_result"
    }
   ],
   "source": [
    "from dataclasses import dataclass\n",
    "\n",
    "@dataclass\n",
    "class Customer:\n",
    "    id: int\n",
    "    name: str\n",
    "        \n",
    "\n",
    "bob_dict = {'id': 3, 'name': 'Little Bobby Drop Tables'}\n",
    "\n",
    "alice = Customer(12, 'Alice')\n",
    "bob = Customer(**bob_dict)\n",
    "bob"
   ]
  },
  {
   "cell_type": "markdown",
   "metadata": {},
   "source": [
    "## REST API"
   ]
  },
  {
   "cell_type": "code",
   "execution_count": 21,
   "metadata": {},
   "outputs": [
    {
     "name": "stdout",
     "output_type": "stream",
     "text": [
      "200\n",
      "https://en.wikipedia.org/w/index.php?title=Metallica&action=history\n"
     ]
    }
   ],
   "source": [
    "# https://en.wikipedia.org/w/index.php?title=Metallica&action=history\n",
    "\n",
    "# PROTOCOL:       https (port 443)\n",
    "# HOST:           en.wikipedia.org\n",
    "# PATH:           w/index.php\n",
    "# QUERY STRING:   title=Metallica&action=history\n",
    "\n",
    "payload = {'title': 'Metallica', 'action': 'history'}\n",
    "r = requests.get('https://en.wikipedia.org/w/index.php', params=payload)\n",
    "print(r.status_code)\n",
    "print(r.url)"
   ]
  },
  {
   "cell_type": "code",
   "execution_count": 22,
   "metadata": {
    "scrolled": false
   },
   "outputs": [
    {
     "name": "stdout",
     "output_type": "stream",
     "text": [
      "First we GET some data...\n",
      "Customer(id=1, name='Alice')\n",
      "Customer(id=2, name='Bob')\n",
      "Customer(id=3, name='Carol')\n",
      "\n",
      "Now we POST some data...\n",
      "{\n",
      "  \"name\": \"Dan\",\n",
      "  \"id\": 4\n",
      "}\n",
      "Added customer (ID: 4)\n"
     ]
    }
   ],
   "source": [
    "url = 'https://my-json-server.typicode.com/CatchemAL/Python-Doodle/customers'\n",
    "\n",
    "print('First we GET some data...')\n",
    "page = requests.get(url)\n",
    "\n",
    "if page.status_code != 200:\n",
    "    raise requests.ConnectionError(f\"Expected status code 200, but got {page.status_code}\")\n",
    "\n",
    "for customer_dict in page.json():\n",
    "    customer = Customer(**customer_dict)\n",
    "    print(customer)\n",
    "\n",
    "    \n",
    "print('\\nNow we POST some data...')\n",
    "resp = requests.post(url, data={\"name\": 'Dan'}, timeout=1.0)\n",
    "\n",
    "if resp.status_code != 201:\n",
    "    raise requests.ConnectionError(f'POST /customers/ {resp.status_code}')\n",
    "\n",
    "print(resp.text)\n",
    "print(f'Added customer (ID: {resp.json()[\"id\"]})')"
   ]
  },
  {
   "cell_type": "code",
   "execution_count": 23,
   "metadata": {},
   "outputs": [
    {
     "name": "stdout",
     "output_type": "stream",
     "text": [
      "First we GET some data...\n"
     ]
    }
   ],
   "source": [
    "url = 'https://api.exchangeratesapi.io/history' #  HTTP/1.1\n",
    "\n",
    "print('First we GET some data...')\n",
    "page = requests.get(url, params={'start_at': '2019-01-01', 'end_at': '2019-05-25', 'base': 'GBP'})\n",
    "\n",
    "if page.status_code != 200:\n",
    "    raise requests.ConnectionError(f\"Expected status code 200, but got {page.status_code}\")\n",
    "    \n",
    "res = page.json()"
   ]
  },
  {
   "cell_type": "markdown",
   "metadata": {},
   "source": [
    "## Enums"
   ]
  },
  {
   "cell_type": "code",
   "execution_count": 89,
   "metadata": {},
   "outputs": [
    {
     "name": "stdout",
     "output_type": "stream",
     "text": [
      "Direction.North\n",
      "\n",
      "Direction.North: \tvalue=1 \tname=North\n",
      "Direction.South: \tvalue=2 \tname=South\n",
      "Direction.East: \tvalue=3 \tname=East\n",
      "Direction.West: \tvalue=4 \tname=West\n",
      "\n",
      "Currency.GBP: \t\tvalue=GBP \tname=GBP\n",
      "Currency.EUR: \t\tvalue=EUR \tname=EUR\n",
      "Currency.USD: \t\tvalue=USD \tname=USD\n",
      "\n",
      "Direction.East\n",
      "Currency.EUR\n"
     ]
    }
   ],
   "source": [
    "from enum import Enum, auto, unique\n",
    "\n",
    "@unique\n",
    "class Direction(Enum):\n",
    "    North = 1\n",
    "    South = 2\n",
    "    East = auto()\n",
    "    West = 4\n",
    "\n",
    "class Currency(Enum):\n",
    "    GBP = 'GBP'\n",
    "    EUR = 'EUR'\n",
    "    USD = 'USD'\n",
    "    \n",
    "n = Direction.North\n",
    "print(n, end='\\n\\n')\n",
    "\n",
    "for direction in Direction:\n",
    "    print(f'{direction}: \\tvalue={direction.value} \\tname={direction.name}')\n",
    "else:\n",
    "    print()\n",
    "\n",
    "for currency in Currency:\n",
    "    print(f'{currency}: \\t\\tvalue={currency.value} \\tname={currency.name}')\n",
    "else:\n",
    "    print()\n",
    "    \n",
    "print(Direction(3))\n",
    "print(Currency('EUR'))"
   ]
  }
 ],
 "metadata": {
  "kernelspec": {
   "display_name": "Python 3",
   "language": "python",
   "name": "python3"
  },
  "language_info": {
   "codemirror_mode": {
    "name": "ipython",
    "version": 3
   },
   "file_extension": ".py",
   "mimetype": "text/x-python",
   "name": "python",
   "nbconvert_exporter": "python",
   "pygments_lexer": "ipython3",
   "version": "3.7.3"
  }
 },
 "nbformat": 4,
 "nbformat_minor": 2
}
